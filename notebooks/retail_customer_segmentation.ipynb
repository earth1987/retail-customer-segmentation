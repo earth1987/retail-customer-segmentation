{
 "cells": [
  {
   "cell_type": "markdown",
   "id": "4dff71d5-c6fb-4587-b545-d9cdb01d72ff",
   "metadata": {},
   "source": [
    "# Retail customer segmentation\n",
    "\n",
    "The aim is to identify target customers for marketing strategies."
   ]
  },
  {
   "cell_type": "markdown",
   "id": "14b7b15d-ca00-48f5-bb72-065bc400036f",
   "metadata": {},
   "source": [
    "# Scope\n",
    "* The data contains customer information from a mall's membership cards: Customer ID, age, gender, annual income, and spending score, a metric based on purchasing behavior. "
   ]
  },
  {
   "cell_type": "markdown",
   "id": "ea9c4fc7-4e8e-4c94-828f-1f5046b190b2",
   "metadata": {},
   "source": [
    "# Data exploration"
   ]
  },
  {
   "cell_type": "markdown",
   "id": "457c4d7b-faaf-4b2e-9348-98c77b2353ff",
   "metadata": {},
   "source": [
    "## Dependencies"
   ]
  },
  {
   "cell_type": "code",
   "execution_count": 2,
   "id": "592027e8-1672-4533-ad54-4512f5258be6",
   "metadata": {},
   "outputs": [],
   "source": [
    "import sys\n",
    "CONFIG_DIRECTORY = 'C:\\\\Users\\\\billy\\\\OneDrive\\\\Documents\\\\Python Scripts\\\\1. Portfolio\\\\mall-customer-segmentation\\\\mall-customer-segmentation'\n",
    "if CONFIG_DIRECTORY not in sys.path:\n",
    "    sys.path.insert(0, CONFIG_DIRECTORY)\n",
    "\n",
    "import config\n",
    "import datetime\n",
    "import numpy as np\n",
    "import pandas as pd\n",
    "from IPython.display import display\n",
    "from matplotlib import pyplot as plt\n",
    "plt.style.use('seaborn-v0_8-muted')"
   ]
  },
  {
   "cell_type": "markdown",
   "id": "64d9cece-e971-44f5-8563-4b4c6e1cf9bb",
   "metadata": {},
   "source": [
    "## Import data"
   ]
  },
  {
   "cell_type": "code",
   "execution_count": 3,
   "id": "75c6b0dd-7bbf-4b86-ac81-46ccf62ebb85",
   "metadata": {},
   "outputs": [
    {
     "name": "stdout",
     "output_type": "stream",
     "text": [
      "Number of records: 200\n"
     ]
    },
    {
     "data": {
      "text/html": [
       "<div>\n",
       "<style scoped>\n",
       "    .dataframe tbody tr th:only-of-type {\n",
       "        vertical-align: middle;\n",
       "    }\n",
       "\n",
       "    .dataframe tbody tr th {\n",
       "        vertical-align: top;\n",
       "    }\n",
       "\n",
       "    .dataframe thead th {\n",
       "        text-align: right;\n",
       "    }\n",
       "</style>\n",
       "<table border=\"1\" class=\"dataframe\">\n",
       "  <thead>\n",
       "    <tr style=\"text-align: right;\">\n",
       "      <th></th>\n",
       "      <th>CustomerID</th>\n",
       "      <th>Gender</th>\n",
       "      <th>Age</th>\n",
       "      <th>Annual Income (k$)</th>\n",
       "      <th>Spending Score (1-100)</th>\n",
       "    </tr>\n",
       "  </thead>\n",
       "  <tbody>\n",
       "    <tr>\n",
       "      <th>0</th>\n",
       "      <td>1</td>\n",
       "      <td>Male</td>\n",
       "      <td>19</td>\n",
       "      <td>15</td>\n",
       "      <td>39</td>\n",
       "    </tr>\n",
       "    <tr>\n",
       "      <th>1</th>\n",
       "      <td>2</td>\n",
       "      <td>Male</td>\n",
       "      <td>21</td>\n",
       "      <td>15</td>\n",
       "      <td>81</td>\n",
       "    </tr>\n",
       "    <tr>\n",
       "      <th>2</th>\n",
       "      <td>3</td>\n",
       "      <td>Female</td>\n",
       "      <td>20</td>\n",
       "      <td>16</td>\n",
       "      <td>6</td>\n",
       "    </tr>\n",
       "  </tbody>\n",
       "</table>\n",
       "</div>"
      ],
      "text/plain": [
       "   CustomerID  Gender  Age  Annual Income (k$)  Spending Score (1-100)\n",
       "0           1    Male   19                  15                      39\n",
       "1           2    Male   21                  15                      81\n",
       "2           3  Female   20                  16                       6"
      ]
     },
     "execution_count": 3,
     "metadata": {},
     "output_type": "execute_result"
    }
   ],
   "source": [
    "# Source: https://www.kaggle.com/datasets/vjchoudhary7/customer-segmentation-tutorial-in-python\n",
    "raw_df = pd.read_csv(config.file_directory('raw') + 'Mall_Customers.csv')\n",
    "print(f\"Number of records: {raw_df.shape[0]}\")\n",
    "raw_df.head(3)"
   ]
  },
  {
   "cell_type": "markdown",
   "id": "02f59610-fd94-450f-87e7-d79a3218a139",
   "metadata": {},
   "source": [
    "## Data types"
   ]
  },
  {
   "cell_type": "code",
   "execution_count": 5,
   "id": "7a99d6de-e9e0-49cc-882c-08741163fea6",
   "metadata": {},
   "outputs": [
    {
     "data": {
      "text/plain": [
       "CustomerID                 int64\n",
       "Gender                    object\n",
       "Age                        int64\n",
       "Annual Income (k$)         int64\n",
       "Spending Score (1-100)     int64\n",
       "dtype: object"
      ]
     },
     "execution_count": 5,
     "metadata": {},
     "output_type": "execute_result"
    }
   ],
   "source": [
    "raw_df.dtypes"
   ]
  },
  {
   "cell_type": "markdown",
   "id": "a69f5ec5-8b1f-48c2-8b65-8e9aa248c0b0",
   "metadata": {},
   "source": [
    "## Missing values"
   ]
  },
  {
   "cell_type": "code",
   "execution_count": 6,
   "id": "a17c6353-603f-463b-8262-ea5a7b8e6dac",
   "metadata": {},
   "outputs": [
    {
     "data": {
      "text/plain": [
       "CustomerID                0\n",
       "Gender                    0\n",
       "Age                       0\n",
       "Annual Income (k$)        0\n",
       "Spending Score (1-100)    0\n",
       "dtype: int64"
      ]
     },
     "execution_count": 6,
     "metadata": {},
     "output_type": "execute_result"
    }
   ],
   "source": [
    "raw_df.isnull().sum()"
   ]
  },
  {
   "cell_type": "markdown",
   "id": "abc5a171-4b27-4378-9b6d-e95ff81c9964",
   "metadata": {},
   "source": [
    "## Summary stats & distributions"
   ]
  },
  {
   "cell_type": "code",
   "execution_count": null,
   "id": "d6d923a0-8060-403d-86e8-92a578b28d74",
   "metadata": {},
   "outputs": [],
   "source": [
    "from custom_funcs import perc_func"
   ]
  },
  {
   "cell_type": "markdown",
   "id": "e94d1837-5522-472a-bde7-bdd7da979f60",
   "metadata": {},
   "source": [
    "# Data cleansing"
   ]
  },
  {
   "cell_type": "markdown",
   "id": "5312dd75-ca99-4d1f-b82c-1c35eef27ad4",
   "metadata": {},
   "source": [
    "# Feature engineering"
   ]
  },
  {
   "cell_type": "markdown",
   "id": "2eaf91f5-e745-4fda-874e-2c05c49045d0",
   "metadata": {},
   "source": [
    "# Model selection & training"
   ]
  },
  {
   "cell_type": "markdown",
   "id": "06a946fa-6889-4ca4-acb6-989a9b0b2e87",
   "metadata": {},
   "source": [
    "# Model evaluation"
   ]
  }
 ],
 "metadata": {
  "kernelspec": {
   "display_name": "ab_testing",
   "language": "python",
   "name": "ab_testing"
  },
  "language_info": {
   "codemirror_mode": {
    "name": "ipython",
    "version": 3
   },
   "file_extension": ".py",
   "mimetype": "text/x-python",
   "name": "python",
   "nbconvert_exporter": "python",
   "pygments_lexer": "ipython3",
   "version": "3.11.5"
  }
 },
 "nbformat": 4,
 "nbformat_minor": 5
}
